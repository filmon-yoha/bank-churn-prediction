{
 "cells": [
  {
   "cell_type": "code",
   "execution_count": 20,
   "id": "229a8ee1",
   "metadata": {},
   "outputs": [],
   "source": [
    "# Importing libraries\n",
    "import pandas as pd\n",
    "import matplotlib.pyplot as plt\n",
    "import seaborn as sns\n",
    "import numpy as np\n",
    "from sklearn.preprocessing import RobustScaler\n",
    "from sklearn.preprocessing import LabelEncoder\n",
    "from mlxtend.feature_selection import SequentialFeatureSelector as SFS\n",
    "from sklearn.model_selection import train_test_split\n",
    "from sklearn.linear_model import LogisticRegression\n",
    "from sklearn.naive_bayes import GaussianNB\n",
    "from sklearn.svm import SVC\n",
    "from sklearn.tree import DecisionTreeClassifier\n",
    "from sklearn.neighbors import KNeighborsClassifier\n",
    "from sklearn.ensemble import RandomForestClassifier\n",
    "from sklearn.ensemble import GradientBoostingClassifier\n",
    "from sklearn.metrics import accuracy_score,precision_score,recall_score"
   ]
  },
  {
   "cell_type": "code",
   "execution_count": 21,
   "id": "3a96da3e",
   "metadata": {},
   "outputs": [],
   "source": [
    "# Loading and reading data\n",
    "df = pd.read_csv(r'C:\\Users\\FILI DANI\\Downloads\\archive (12)\\BankChurners.csv')"
   ]
  },
  {
   "cell_type": "code",
   "execution_count": 22,
   "id": "09fd19cd",
   "metadata": {},
   "outputs": [],
   "source": [
    "# Removal of unnecessary columns (last two columns)\n",
    "df = df.iloc[:,1:21]"
   ]
  },
  {
   "cell_type": "code",
   "execution_count": 23,
   "id": "1f6bb34c",
   "metadata": {},
   "outputs": [],
   "source": [
    "# Scaling the numerical variables via Robust scaler\n",
    "for col in df.columns:\n",
    "    if df[col].dtype != type(object):\n",
    "        scaler = RobustScaler()\n",
    "        df[col] = scaler.fit_transform(df[[col]])"
   ]
  },
  {
   "cell_type": "code",
   "execution_count": 24,
   "id": "2674ee8f",
   "metadata": {},
   "outputs": [],
   "source": [
    "# Handling categorical varibales (encoding)\n",
    "\n",
    "# Encoding ordinal categorical columns\n",
    "ordinal_categorical_columns = ['Education_Level','Income_Category','Card_Category']\n",
    "def encoding_education_level(education_level):\n",
    "    if education_level == 'Uneducated':\n",
    "        return 0\n",
    "    elif education_level == 'Unknown':\n",
    "        return 1\n",
    "    elif education_level == 'High School':\n",
    "        return 2\n",
    "    elif education_level == 'College':\n",
    "        return 3\n",
    "    elif education_level == 'Graduate':\n",
    "        return 4\n",
    "    elif education_level == 'Post-Graduate':\n",
    "        return 5\n",
    "    elif education_level == 'Doctorate':\n",
    "        return 6\n",
    "def encoding_income_category(income_category):\n",
    "    if income_category == 'Unknown':\n",
    "        return 0\n",
    "    elif income_category == 'Less than $40K':\n",
    "        return 1\n",
    "    elif income_category == '$40K - $60K':\n",
    "        return 2\n",
    "    elif income_category == '$60K - $80K':\n",
    "        return 3\n",
    "    elif income_category == '$80K - $120K':\n",
    "        return 4\n",
    "    elif income_category == '$120K +':\n",
    "        return 5\n",
    "def encoding_card_category(card_category):\n",
    "    if card_category == 'Blue':\n",
    "        return 0\n",
    "    elif card_category == 'Silver':\n",
    "        return 1\n",
    "    elif card_category == 'Gold':\n",
    "        return 2\n",
    "    elif card_category == 'Platinum':\n",
    "        return 3\n",
    "df['Education_Level'] = df['Education_Level'].apply(encoding_education_level)\n",
    "df['Income_Category'] = df['Income_Category'].apply(encoding_income_category)\n",
    "df['Card_Category'] = df['Card_Category'].apply(encoding_card_category)\n",
    "df['Attrition_Flag'] = df['Attrition_Flag'].apply(lambda x:1 if x=='Attrited Customer' else 0)\n",
    "\n",
    "# Label ecoding (nominal categorical columsn)\n",
    "for col in df.columns:\n",
    "    if df[col].dtype == type(object):\n",
    "        le = LabelEncoder()\n",
    "        df[col] = le.fit_transform(df[col])"
   ]
  },
  {
   "cell_type": "code",
   "execution_count": 25,
   "id": "cbedc9c4",
   "metadata": {},
   "outputs": [],
   "source": [
    "# Splitting the dataset\n",
    "x = df.iloc[:,1:]\n",
    "y = df.iloc[:,0]\n",
    "x_train,x_test,y_train,y_test = train_test_split(x,y,test_size=0.2,random_state=42)"
   ]
  },
  {
   "cell_type": "code",
   "execution_count": 26,
   "id": "9ac846f4",
   "metadata": {},
   "outputs": [
    {
     "name": "stdout",
     "output_type": "stream",
     "text": [
      "The best features are ['Customer_Age', 'Gender', 'Dependent_count', 'Education_Level', 'Marital_Status', 'Income_Category', 'Card_Category', 'Months_on_book', 'Total_Relationship_Count', 'Months_Inactive_12_mon', 'Contacts_Count_12_mon', 'Credit_Limit', 'Total_Revolving_Bal', 'Total_Trans_Amt', 'Total_Trans_Ct', 'Total_Ct_Chng_Q4_Q1', 'Avg_Utilization_Ratio']\n",
      "The best score is 0.660703608339658\n"
     ]
    }
   ],
   "source": [
    "# Sequestial Forward Feature Selection for Logistic Regression\n",
    "sfs_logistic = SFS(estimator=LogisticRegression(),k_features='best',scoring='f1')\n",
    "sfs_logistic.fit(x_train,y_train)\n",
    "\n",
    "# Convert tuple best features to array\n",
    "def convert_to_array(features):\n",
    "    features_list = []\n",
    "    for x in features:\n",
    "        features_list.append(x)\n",
    "    return features_list\n",
    "\n",
    "# Store best features \n",
    "sfs_logistic_best_features = convert_to_array(sfs_logistic.k_feature_names_)\n",
    "sfs_logistic_best_score = sfs_logistic.k_score_\n",
    "print(f'The best features are {sfs_logistic_best_features}')\n",
    "print(f'The best score is {sfs_logistic_best_score}')"
   ]
  },
  {
   "cell_type": "code",
   "execution_count": 27,
   "id": "aee3a37f",
   "metadata": {},
   "outputs": [
    {
     "name": "stdout",
     "output_type": "stream",
     "text": [
      "The best features are ['Customer_Age', 'Gender', 'Dependent_count', 'Education_Level', 'Marital_Status', 'Months_on_book', 'Total_Relationship_Count', 'Months_Inactive_12_mon', 'Contacts_Count_12_mon', 'Total_Revolving_Bal', 'Total_Trans_Amt', 'Total_Trans_Ct', 'Total_Ct_Chng_Q4_Q1']\n",
      "The best score is 0.6776273848768819\n"
     ]
    }
   ],
   "source": [
    "# Sequestial Forward Feature Selection for Naive Bayes\n",
    "sfs_naive_bayes = SFS(estimator=GaussianNB(),k_features='best',scoring='f1')\n",
    "sfs_naive_bayes.fit(x_train,y_train)\n",
    "\n",
    "# Store best features\n",
    "sfs_naive_bayes_best_features = convert_to_array(sfs_naive_bayes.k_feature_names_)\n",
    "sfs_naive_bayes_best_score = sfs_naive_bayes.k_score_\n",
    "print(f'The best features are {sfs_naive_bayes_best_features}')\n",
    "print(f'The best score is {sfs_naive_bayes_best_score}')"
   ]
  },
  {
   "cell_type": "code",
   "execution_count": 28,
   "id": "0f581f92",
   "metadata": {},
   "outputs": [
    {
     "name": "stdout",
     "output_type": "stream",
     "text": [
      "The best features are ['Customer_Age', 'Gender', 'Months_on_book', 'Total_Relationship_Count', 'Months_Inactive_12_mon', 'Total_Revolving_Bal', 'Total_Amt_Chng_Q4_Q1', 'Total_Trans_Amt', 'Total_Trans_Ct', 'Total_Ct_Chng_Q4_Q1']\n",
      "The best score is 0.8021358230161562\n"
     ]
    }
   ],
   "source": [
    "# Sequestial Forward Feature Selection for Support Vector Machines\n",
    "sfs_svm = SFS(estimator=SVC(),k_features='best',scoring='f1')\n",
    "sfs_svm.fit(x_train,y_train)\n",
    "\n",
    "# Store best features\n",
    "sfs_svm_best_features = convert_to_array(sfs_svm.k_feature_names_)\n",
    "sfs_svm_best_score = sfs_svm.k_score_\n",
    "print(f'The best features are {sfs_svm_best_features}')\n",
    "print(f'The best score is {sfs_svm_best_score}')"
   ]
  },
  {
   "cell_type": "code",
   "execution_count": 29,
   "id": "de1b1fd6",
   "metadata": {},
   "outputs": [
    {
     "name": "stdout",
     "output_type": "stream",
     "text": [
      "The best features are ['Customer_Age', 'Months_on_book', 'Total_Relationship_Count', 'Total_Amt_Chng_Q4_Q1', 'Total_Trans_Amt', 'Total_Trans_Ct', 'Total_Ct_Chng_Q4_Q1']\n",
      "The best score is 0.8142639582411114\n"
     ]
    }
   ],
   "source": [
    "# Sequestial Forward Feature Selection for Decision tree\n",
    "sfs_decision_tree = SFS(estimator=DecisionTreeClassifier(),k_features='best',scoring='f1')\n",
    "sfs_decision_tree.fit(x_train,y_train)\n",
    "\n",
    "# Store best features\n",
    "sfs_decision_tree_best_features = convert_to_array(sfs_decision_tree.k_feature_names_)\n",
    "sfs_decision_tree_best_score = sfs_decision_tree.k_score_\n",
    "print(f'The best features are {sfs_decision_tree_best_features}')\n",
    "print(f'The best score is {sfs_decision_tree_best_score}')"
   ]
  },
  {
   "cell_type": "code",
   "execution_count": 30,
   "id": "3153bf64",
   "metadata": {},
   "outputs": [],
   "source": [
    "# Applying Sequestial Forward Feature Selection for K-nearest neighbor to identify best number of neighbors to use\n",
    "number_of_neighbors = [3,6,9,12,15,18]\n",
    "sfs_k_nearest_neighbor_scores = []\n",
    "for neighbor in number_of_neighbors:\n",
    "    sfs_k_nearest_neighbor = SFS(estimator=KNeighborsClassifier(n_neighbors=neighbor,metric='minkowski',p=2),k_features='best',\n",
    "                                 scoring='f1')\n",
    "    sfs_k_nearest_neighbor.fit(x_train,y_train)\n",
    "    sfs_k_nearest_neighbor_scores.append(sfs_k_nearest_neighbor.k_score_)"
   ]
  },
  {
   "cell_type": "code",
   "execution_count": 31,
   "id": "a257fe8f",
   "metadata": {},
   "outputs": [
    {
     "data": {
      "image/png": "[encoded data removed]",
      "text/plain": [
       "<Figure size 432x288 with 1 Axes>"
      ]
     },
     "metadata": {
      "needs_background": "light"
     },
     "output_type": "display_data"
    }
   ],
   "source": [
    "# Identifying best number of neighbors to use for sfs_k_nearest_neighbor\n",
    "fig , ax = plt.subplots()\n",
    "ax.plot(number_of_neighbors,sfs_k_nearest_neighbor_scores,linestyle='-',marker='o')\n",
    "ax.set_title('Number of neighbors versus sfs_k_nearest_neighbor scores')\n",
    "ax.set_ylabel('Score')\n",
    "ax.set_xlabel('Number of neighbors')\n",
    "plt.show()"
   ]
  },
  {
   "cell_type": "code",
   "execution_count": 32,
   "id": "6e98d1de",
   "metadata": {},
   "outputs": [
    {
     "name": "stdout",
     "output_type": "stream",
     "text": [
      "The best features are ['Total_Relationship_Count', 'Total_Revolving_Bal', 'Total_Amt_Chng_Q4_Q1', 'Total_Trans_Amt', 'Total_Trans_Ct']\n",
      "The best score is 0.8022874209603226\n"
     ]
    }
   ],
   "source": [
    "# Sequestial Forward Feature Selection for K-nearest neighbor\n",
    "sfs_k_nearest_neighbor = SFS(estimator=KNeighborsClassifier(n_neighbors=3,metric='minkowski',\n",
    "                                                           p=2),k_features='best',scoring='f1')\n",
    "sfs_k_nearest_neighbor.fit(x_train,y_train)\n",
    "\n",
    "# Store best features\n",
    "sfs_k_nearest_neighbor_best_features = convert_to_array(sfs_k_nearest_neighbor.k_feature_names_)\n",
    "sfs_k_nearest_neighbor_best_score = sfs_k_nearest_neighbor.k_score_\n",
    "print(f'The best features are {sfs_k_nearest_neighbor_best_features}')\n",
    "print(f'The best score is {sfs_k_nearest_neighbor_best_score}')"
   ]
  },
  {
   "cell_type": "code",
   "execution_count": 33,
   "id": "92233352",
   "metadata": {},
   "outputs": [],
   "source": [
    "# Applying Sequestial Forward Feature Selection for random forest to identify best number of estimators to use\n",
    "number_of_estimators = [10,20,30,40,50,60]\n",
    "sfs_random_forest_scores = []\n",
    "for estimator in number_of_estimators:\n",
    "    sfs_random_forest = SFS(estimator=RandomForestClassifier(n_estimators=estimator,max_depth=3,\n",
    "                                                             random_state=42),k_features='best',\n",
    "                                 scoring='f1')\n",
    "    sfs_random_forest.fit(x_train,y_train)\n",
    "    sfs_random_forest_scores.append(sfs_random_forest.k_score_)"
   ]
  },
  {
   "cell_type": "code",
   "execution_count": 34,
   "id": "eef6bd6e",
   "metadata": {},
   "outputs": [
    {
     "data": {
      "image/png": "[encoded data removed]",
      "text/plain": [
       "<Figure size 432x288 with 1 Axes>"
      ]
     },
     "metadata": {
      "needs_background": "light"
     },
     "output_type": "display_data"
    }
   ],
   "source": [
    "# Identifying best number of neighbors to use for sfs_random_forest\n",
    "fig , ax = plt.subplots()\n",
    "ax.plot(number_of_estimators,sfs_random_forest_scores,linestyle='-',marker='o')\n",
    "ax.set_title('Number of estimators versus sfs_random_forest scores')\n",
    "ax.set_ylabel('Score')\n",
    "ax.set_xlabel('Number of estimators')\n",
    "plt.show()"
   ]
  },
  {
   "cell_type": "code",
   "execution_count": 35,
   "id": "a409c057",
   "metadata": {},
   "outputs": [
    {
     "name": "stdout",
     "output_type": "stream",
     "text": [
      "The best features are ['Gender', 'Income_Category', 'Total_Relationship_Count', 'Total_Revolving_Bal', 'Avg_Open_To_Buy', 'Total_Amt_Chng_Q4_Q1', 'Total_Trans_Amt', 'Total_Trans_Ct', 'Total_Ct_Chng_Q4_Q1']\n",
      "The best score is 0.6750587117796905\n"
     ]
    }
   ],
   "source": [
    "# Sequestial Forward Feature Selection for Random forest\n",
    "sfs_random_forest = SFS(estimator=RandomForestClassifier(n_estimators=50,max_depth=3,\n",
    "                                                             random_state=42),k_features='best',scoring='f1')\n",
    "sfs_random_forest.fit(x_train,y_train)\n",
    "\n",
    "# Store best features\n",
    "sfs_random_forest_best_features = convert_to_array(sfs_random_forest.k_feature_names_)\n",
    "sfs_random_forest_best_score = sfs_random_forest.k_score_\n",
    "print(f'The best features are {sfs_random_forest_best_features}')\n",
    "print(f'The best score is {sfs_random_forest_best_score}')"
   ]
  },
  {
   "cell_type": "code",
   "execution_count": 36,
   "id": "da86f4fe",
   "metadata": {},
   "outputs": [],
   "source": [
    "# Applying Sequestial Forward Feature Selection for Gradient boosting to identify best number of estimators to use\n",
    "number_of_estimators = [10,20,30,40,50,60]\n",
    "sfs_gradient_boosting_scores = []\n",
    "for estimator in number_of_estimators:\n",
    "    sfs_gradient_boosting = SFS(estimator=GradientBoostingClassifier(n_estimators=estimator,max_depth=3,\n",
    "                                                             random_state=42),k_features='best',\n",
    "                                 scoring='f1')\n",
    "    sfs_gradient_boosting.fit(x_train,y_train)\n",
    "    sfs_gradient_boosting_scores.append(sfs_gradient_boosting.k_score_)"
   ]
  },
  {
   "cell_type": "code",
   "execution_count": 37,
   "id": "50968e71",
   "metadata": {},
   "outputs": [
    {
     "data": {
      "image/png": "[encoded data removed]",
      "text/plain": [
       "<Figure size 432x288 with 1 Axes>"
      ]
     },
     "metadata": {
      "needs_background": "light"
     },
     "output_type": "display_data"
    }
   ],
   "source": [
    "# Identifying best number of neighbors to use for sfs_gradient_boosting\n",
    "fig , ax = plt.subplots()\n",
    "ax.plot(number_of_estimators,sfs_gradient_boosting_scores,linestyle='-',marker='o')\n",
    "ax.set_title('Number of estimators versus sfs_gradient_boosting scores')\n",
    "ax.set_ylabel('Score')\n",
    "ax.set_xlabel('Number of estimators')\n",
    "plt.show()"
   ]
  },
  {
   "cell_type": "code",
   "execution_count": 38,
   "id": "9348ddc3",
   "metadata": {},
   "outputs": [
    {
     "name": "stdout",
     "output_type": "stream",
     "text": [
      "The best features are ['Customer_Age', 'Gender', 'Dependent_count', 'Education_Level', 'Marital_Status', 'Income_Category', 'Card_Category', 'Months_on_book', 'Total_Relationship_Count', 'Months_Inactive_12_mon', 'Credit_Limit', 'Total_Revolving_Bal', 'Total_Amt_Chng_Q4_Q1', 'Total_Trans_Amt', 'Total_Trans_Ct', 'Total_Ct_Chng_Q4_Q1', 'Avg_Utilization_Ratio']\n",
      "The best score is 0.8666343238498616\n"
     ]
    }
   ],
   "source": [
    "# Sequestial Forward Feature Selection for Gradient Boosting\n",
    "sfs_gradient_boosting = SFS(estimator=GradientBoostingClassifier(n_estimators=60,max_depth=3,\n",
    "                                                             random_state=42),k_features='best',scoring='f1')\n",
    "sfs_gradient_boosting.fit(x_train,y_train)\n",
    "\n",
    "# Store best features\n",
    "sfs_gradient_boosting_best_features = convert_to_array(sfs_gradient_boosting.k_feature_names_)\n",
    "sfs_gradient_boosting_best_score = sfs_gradient_boosting.k_score_\n",
    "print(f'The best features are {sfs_gradient_boosting_best_features}')\n",
    "print(f'The best score is {sfs_gradient_boosting_best_score}')"
   ]
  }
 ],
 "metadata": {
  "kernelspec": {
   "display_name": "Python 3 (ipykernel)",
   "language": "python",
   "name": "python3"
  },
  "language_info": {
   "codemirror_mode": {
    "name": "ipython",
    "version": 3
   },
   "file_extension": ".py",
   "mimetype": "text/x-python",
   "name": "python",
   "nbconvert_exporter": "python",
   "pygments_lexer": "ipython3",
   "version": "3.9.12"
  }
 },
 "nbformat": 4,
 "nbformat_minor": 5
}
